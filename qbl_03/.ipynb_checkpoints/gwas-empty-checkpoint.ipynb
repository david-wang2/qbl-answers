{
 "cells": [
  {
   "cell_type": "markdown",
   "metadata": {},
   "source": [
    "## Week 3: Genome-wide association studies (GWAS)"
   ]
  },
  {
   "cell_type": "markdown",
   "metadata": {},
   "source": [
    "Our live-coding GWAS is adapted from workshop by Heather Wheeler from Loyola University Chicago (https://github.com/hwheeler01/GWAS_workshop). The premise for the exercise is that you are part of a company developing a new cancer drug called GS451. Some individuals in early phase trials have experienced a side effect of the drug called lymphocytopenia (low lymphocyte counts). You are now tasked with performing a GWAS on data from lymphblastoid cell lines to search for risk factors for lymphocytopenia. The phenotype that was measured is the IC$_{50}$, defined as the concentration of the drug at which 50% viability occurs.\n",
    "\n",
    "Genotype data are available in VCF format [`genotypes.vcf`](https://www.dropbox.com/s/6e0vhffv6mcfy9l/genotypes.vcf?dl=0), with which you should be familiar from last week. Phenotype data are available as a text file [`GS451_IC50.txt`](https://www.dropbox.com/s/cvznmgbip40plkb/GS451_IC50.txt?dl=0).\n",
    "\n",
    "The software package PLINK is widely used for genome-wide association and related analyses. We need to install PLINK by typing into the terminal:\n",
    "\n",
    "```\n",
    "conda install plink -y\n",
    "```\n",
    "\n",
    "How many genetic variants (in this case SNPs) are present in our VCF file? Note that the `%` symbol allows us to run shell commands within a jupyter notebook."
   ]
  },
  {
   "cell_type": "code",
   "execution_count": null,
   "metadata": {
    "scrolled": false
   },
   "outputs": [],
   "source": [
    "%%bash\n"
   ]
  },
  {
   "cell_type": "markdown",
   "metadata": {},
   "source": [
    "### Linkage disequilibrium"
   ]
  },
  {
   "cell_type": "markdown",
   "metadata": {},
   "source": [
    "Linkage disequlibrium refers to correlation among genotypes at multiple sites in the genome. This is a consequence of the fact that chromosomes are transmitted in “chunks” through the generations. When mutations arise, they arise on a single chromosome with a given set of alleles and are thus associated with genetic background unless they become shuffled during the process of meiotic recombination. A set of alleles that tend to occur together because of linkage disequilibrium are called a “haplotype”.\n",
    "\n",
    "As a result of linkage disequilibrium, knowledge of genotype at one site in the genome can be informative of genotype at another site despite the fact that the second site was not actually genotyped. Using prior knowledge of linkage disequilibrium to “fill in” missing genotype information is a process called “imputation”.\n",
    "\n",
    "The existence of linkage disequilibrium also means that correlation between genotype at a particular site in the genome and phenotype (e.g., disease outcome) does not imply causation. Even ignoring other possible confounders, linkage disequilibrium means that any variant on the same haplotype could be driving the association. Beyond mutation and recombination, other evolutionary forces such as gene flow, genetic drift, and natural selection can also influence patterns of linkage disequilibrium observed in population genetic data. Measuring linkage disequilibrium is therefore important for both medical and evolutionary studies.\n",
    "\n",
    "We can use PLINK to compute measures of pairwise linkage disequilibrium. Let's try for two adjacent SNPs that I have pre-selected."
   ]
  },
  {
   "cell_type": "code",
   "execution_count": null,
   "metadata": {},
   "outputs": [],
   "source": [
    "%%bash\n"
   ]
  },
  {
   "cell_type": "markdown",
   "metadata": {},
   "source": [
    "Let's try for two distant alleles:"
   ]
  },
  {
   "cell_type": "code",
   "execution_count": null,
   "metadata": {},
   "outputs": [],
   "source": [
    "%%bash\n"
   ]
  },
  {
   "cell_type": "markdown",
   "metadata": {},
   "source": [
    "### Association testing \"by hand\"\n",
    "\n",
    "Note that the test for association between each SNP and a phenotype of interest is generally just some form of linear regression. For continuous traits, we commonly use OLS, while for case/control studies, we often perform logistic regression (a form of generalized linear model). To prove this concept for you, let's implement the association test that is used by PLINK, under the hood. Remember, the test is applied to a single SNP at a time.\n",
    "\n",
    "First, let's convert the PLINK file to a rectangular format that is easier to parse:"
   ]
  },
  {
   "cell_type": "code",
   "execution_count": null,
   "metadata": {},
   "outputs": [],
   "source": [
    "%%bash\n"
   ]
  },
  {
   "cell_type": "code",
   "execution_count": null,
   "metadata": {},
   "outputs": [],
   "source": [
    "%%bash\n"
   ]
  },
  {
   "cell_type": "code",
   "execution_count": null,
   "metadata": {},
   "outputs": [],
   "source": [
    "%%bash\n"
   ]
  },
  {
   "cell_type": "code",
   "execution_count": null,
   "metadata": {},
   "outputs": [],
   "source": [
    "import pandas as pd\n",
    "import numpy as np\n",
    "import statsmodels.api as sm \n",
    "import statsmodels.formula.api as smf\n",
    "\n"
   ]
  },
  {
   "cell_type": "code",
   "execution_count": null,
   "metadata": {},
   "outputs": [],
   "source": []
  },
  {
   "cell_type": "code",
   "execution_count": null,
   "metadata": {},
   "outputs": [],
   "source": []
  },
  {
   "cell_type": "code",
   "execution_count": null,
   "metadata": {},
   "outputs": [],
   "source": []
  },
  {
   "cell_type": "markdown",
   "metadata": {},
   "source": [
    "### Association testing \"by PLINK\""
   ]
  },
  {
   "cell_type": "markdown",
   "metadata": {},
   "source": [
    "Now let's do the exact same association test for the same SNP using PLINK:"
   ]
  },
  {
   "cell_type": "code",
   "execution_count": null,
   "metadata": {},
   "outputs": [],
   "source": [
    "%%bash\n"
   ]
  },
  {
   "cell_type": "code",
   "execution_count": null,
   "metadata": {},
   "outputs": [],
   "source": [
    "%%bash\n"
   ]
  },
  {
   "cell_type": "markdown",
   "metadata": {},
   "source": [
    "But this is not yet a genome-wide association study. To apply this to **all** genotyped variants, we omit the `--snp` argument."
   ]
  },
  {
   "cell_type": "code",
   "execution_count": null,
   "metadata": {},
   "outputs": [],
   "source": [
    "%%bash\n"
   ]
  },
  {
   "cell_type": "code",
   "execution_count": null,
   "metadata": {},
   "outputs": [],
   "source": [
    "%%bash\n"
   ]
  },
  {
   "cell_type": "code",
   "execution_count": null,
   "metadata": {},
   "outputs": [],
   "source": [
    "%%bash\n"
   ]
  },
  {
   "cell_type": "markdown",
   "metadata": {},
   "source": [
    "Do any of these variants achieve genome-wide significance?"
   ]
  },
  {
   "cell_type": "markdown",
   "metadata": {},
   "source": [
    "### Dealing with population stratification"
   ]
  },
  {
   "cell_type": "markdown",
   "metadata": {},
   "source": [
    "One major concern in genome-wide association studies is violation of the regression assumption of independent data points due to genetic relatedness and/or population structure. This can generate false associations, especially if the mean value of the trait varies by population. One common approach to mitigate this effect is to use principal component analysis to infer ancestry of the individuals in the study and use these top principal components (the eigenvectors) as covariates in the regression analysis. PLINK can be used to perform PCA:"
   ]
  },
  {
   "cell_type": "code",
   "execution_count": null,
   "metadata": {},
   "outputs": [],
   "source": []
  },
  {
   "cell_type": "markdown",
   "metadata": {},
   "source": [
    "The resulting top PCs can then be used as covariates in the GWAS. This amounts to a multiple regression test, where genotype and the top PCs are all specified as predictors of the phenotype. PLINK distinguishes simple linear regression from multiple linear regression using the `--assoc` versus `--linear` flags, respectively. Covariates are provided by including `--covar plink.eigenvec` and specifying the (one-based) column indices of the covariates you want to include, e.g., `--covar-number 1-5` for the top 5 PCs."
   ]
  },
  {
   "cell_type": "code",
   "execution_count": null,
   "metadata": {},
   "outputs": [],
   "source": []
  },
  {
   "cell_type": "markdown",
   "metadata": {},
   "source": [
    "### Manhattan plot"
   ]
  },
  {
   "cell_type": "code",
   "execution_count": null,
   "metadata": {},
   "outputs": [],
   "source": [
    "# split columns on any number of spaces\n",
    "pd.read_csv(, sep = \"\\s+\")\n"
   ]
  },
  {
   "cell_type": "code",
   "execution_count": null,
   "metadata": {},
   "outputs": [],
   "source": [
    "import matplotlib.pyplot as plt\n"
   ]
  },
  {
   "cell_type": "markdown",
   "metadata": {},
   "source": [
    "### QQ plot"
   ]
  },
  {
   "cell_type": "code",
   "execution_count": null,
   "metadata": {},
   "outputs": [],
   "source": []
  },
  {
   "cell_type": "code",
   "execution_count": null,
   "metadata": {},
   "outputs": [],
   "source": []
  },
  {
   "cell_type": "code",
   "execution_count": null,
   "metadata": {},
   "outputs": [],
   "source": []
  },
  {
   "cell_type": "code",
   "execution_count": null,
   "metadata": {},
   "outputs": [],
   "source": []
  }
 ],
 "metadata": {
  "kernelspec": {
   "display_name": "Python 3",
   "language": "python",
   "name": "python3"
  },
  "language_info": {
   "codemirror_mode": {
    "name": "ipython",
    "version": 3
   },
   "file_extension": ".py",
   "mimetype": "text/x-python",
   "name": "python",
   "nbconvert_exporter": "python",
   "pygments_lexer": "ipython3",
   "version": "3.6.9"
  }
 },
 "nbformat": 4,
 "nbformat_minor": 4
}
